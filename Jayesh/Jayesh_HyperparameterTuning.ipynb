{
 "cells": [
  {
   "cell_type": "code",
   "execution_count": 21,
   "id": "c8ab717f-6e95-4b70-8b19-faf6edcd87b7",
   "metadata": {},
   "outputs": [],
   "source": [
    "import pandas as pd\n",
    "import re\n",
    "import nltk\n",
    "from nltk.corpus import stopwords\n",
    "from nltk.stem import WordNetLemmatizer\n",
    "from sklearn.model_selection import train_test_split, GridSearchCV # GridSearchCV for tuning\n",
    "from sklearn.feature_extraction.text import TfidfVectorizer\n",
    "from sklearn.linear_model import LogisticRegression\n",
    "from sklearn.pipeline import Pipeline\n",
    "from sklearn.metrics import accuracy_score, precision_score, recall_score, f1_score, confusion_matrix\n",
    "import warnings\n",
    "import mlflow\n",
    "import mlflow.sklearn\n",
    "import pickle"
   ]
  },
  {
   "cell_type": "code",
   "execution_count": 22,
   "id": "f5125a0a-3941-41ab-92da-96323c9c6cfe",
   "metadata": {},
   "outputs": [],
   "source": [
    "mlflow.sklearn.autolog()"
   ]
  },
  {
   "cell_type": "code",
   "execution_count": 23,
   "id": "f41f73d8-2a26-4911-8b90-a644ed8c5fe4",
   "metadata": {},
   "outputs": [],
   "source": [
    "NLTK_STOPWORDS = set(stopwords.words('english'))\n",
    "NLTK_LEMMATIZER = WordNetLemmatizer()\n",
    "\n",
    "def preprocess_text(text: str) -> str:\n",
    "    if not isinstance(text, str): return \"\"\n",
    "    text = text.lower()\n",
    "    text = re.sub(r'[^a-z\\s]', '', text)\n",
    "    words = [NLTK_LEMMATIZER.lemmatize(word)\n",
    "             for word in text.split()\n",
    "             if word not in NLTK_STOPWORDS and len(word) > 1]\n",
    "    return ' '.join(words)"
   ]
  },
  {
   "cell_type": "code",
   "execution_count": 24,
   "id": "a6bfe80a-e13a-4cd9-8e28-337d172bb698",
   "metadata": {},
   "outputs": [
    {
     "name": "stdout",
     "output_type": "stream",
     "text": [
      "Starting Hyperparameter Tuning...\n"
     ]
    }
   ],
   "source": [
    "if __name__ == \"__main__\":\n",
    "    print(\"Starting Hyperparameter Tuning...\")\n",
    "\n",
    "    df = pd.read_csv(\"spam_data.csv\", encoding='latin-1')\n",
    "\n",
    "    df = df[['sms', 'label']]\n",
    "    df.dropna(subset=['sms', 'label'], inplace=True)\n",
    "    df = df[df['sms'].apply(lambda x: isinstance(x, str))]\n",
    "    df['label'] = pd.to_numeric(df['label'], errors='coerce').astype(int)\n",
    "\n",
    "    df['processed_sms'] = df['sms'].apply(preprocess_text)\n",
    "\n",
    "    X = df['processed_sms']\n",
    "    y = df['label']\n",
    "\n",
    "    X_train, X_test, y_train, y_test = train_test_split(X, y, test_size=0.25, random_state=42, stratify=y)\n",
    "    \n",
    "    pipeline = Pipeline([\n",
    "        ('tfidf_vectorizer', TfidfVectorizer(ngram_range=(1, 2))), # Uses both unigrams and bigrams\n",
    "        ('logistic_classifier', LogisticRegression(random_state=42, solver='liblinear', penalty='l2'))\n",
    "    ])\n",
    "\n",
    "    param_grid = {\n",
    "        'tfidf_vectorizer__max_features': [7000, 10000, 15000], # Tuning number of features\n",
    "        'logistic_classifier__C': [0.5, 1.0, 5.0] # Tuning regularization strength\n",
    "    }"
   ]
  },
  {
   "cell_type": "code",
   "execution_count": 25,
   "id": "c595e140-aa9c-47f1-ba71-ab8ce9971dce",
   "metadata": {},
   "outputs": [
    {
     "name": "stderr",
     "output_type": "stream",
     "text": [
      "2025/06/20 17:47:00 WARNING mlflow.sklearn: Unrecognized dataset type <class 'pandas.core.series.Series'>. Dataset logging skipped.\n",
      "2025/06/20 17:47:14 WARNING mlflow.utils.autologging_utils: Encountered unexpected error during sklearn autologging: When an mlflow-artifacts URI was supplied, the tracking URI must be a valid http or https URI, but it was currently set to file:///C:/Users/Jayesh/Desktop/MLOPS_ASSG/Team-2---Assignment2/Jayesh/mlruns. Perhaps you forgot to set the tracking URI to the running MLflow server. To set the tracking URI, use either of the following methods:\n",
      "1. Set the MLFLOW_TRACKING_URI environment variable to the desired tracking URI. `export MLFLOW_TRACKING_URI=http://localhost:5000`\n",
      "2. Set the tracking URI programmatically by calling `mlflow.set_tracking_uri`. `mlflow.set_tracking_uri('http://localhost:5000')`\n"
     ]
    },
    {
     "name": "stdout",
     "output_type": "stream",
     "text": [
      "\n",
      "Model saved as best_spam_classifier.pkl\n",
      "\n",
      "Hyperparameter Tuning Results:\n",
      "Optimal Hyperparameters: {'logistic_classifier__C': 5.0, 'tfidf_vectorizer__max_features': 10000}\n",
      "Accuracy: 0.9821\n",
      "Precision: 0.9821\n"
     ]
    }
   ],
   "source": [
    "with mlflow.start_run():\n",
    "        grid_search = GridSearchCV(\n",
    "            pipeline,\n",
    "            param_grid,\n",
    "            cv=5,            # 5-fold cross-validation\n",
    "            scoring='f1',    # Optimize for F1-score\n",
    "            n_jobs=-1,       # Use all available CPU cores\n",
    "            verbose=0        # Keep output minimal during search\n",
    "        )\n",
    "    \n",
    "        grid_search.fit(X_train, y_train)\n",
    "    \n",
    "        best_pipeline = grid_search.best_estimator_ # The best performing model from the search\n",
    "        best_params = grid_search.best_params_ # The best hyperparameters found\n",
    "        \n",
    "        # Evaluate the Best Tuned Model\n",
    "        tuned_predictions = best_pipeline.predict(X_test)\n",
    "\n",
    "         # Save the model\n",
    "        model_filename = \"best_spam_classifier.pkl\"\n",
    "        with open(model_filename, 'wb') as file:\n",
    "            pickle.dump(best_pipeline, file)\n",
    "        print(f\"\\nModel saved as {model_filename}\") # Confirmation message\n",
    "    \n",
    "        accuracy = accuracy_score(y_test, tuned_predictions)\n",
    "        precision = precision_score(y_test, tuned_predictions)\n",
    "        mlflow.log_metric(\"final_test_accuracy\", accuracy)\n",
    "        mlflow.log_metric(\"final_test_precision\", precision)\n",
    "\n",
    "        print(\"\\nHyperparameter Tuning Results:\")\n",
    "        print(f\"Optimal Hyperparameters: {best_params}\")\n",
    "        print(f\"Accuracy: {accuracy:.4f}\")\n",
    "        print(f\"Precision: {precision:.4f}\")"
   ]
  },
  {
   "cell_type": "code",
   "execution_count": null,
   "id": "979e2f36-cd8d-4dfc-9fa6-52b8d02b0f3e",
   "metadata": {},
   "outputs": [],
   "source": []
  }
 ],
 "metadata": {
  "kernelspec": {
   "display_name": "Python 3 (ipykernel)",
   "language": "python",
   "name": "python3"
  },
  "language_info": {
   "codemirror_mode": {
    "name": "ipython",
    "version": 3
   },
   "file_extension": ".py",
   "mimetype": "text/x-python",
   "name": "python",
   "nbconvert_exporter": "python",
   "pygments_lexer": "ipython3",
   "version": "3.10.16"
  }
 },
 "nbformat": 4,
 "nbformat_minor": 5
}
