{
 "cells": [
  {
   "cell_type": "code",
   "execution_count": 3,
   "id": "19d1d3f9-26e7-4432-b116-499814cd370a",
   "metadata": {},
   "outputs": [],
   "source": [
    "import pandas as pd\n",
    "import re\n",
    "import nltk\n",
    "from nltk.corpus import stopwords\n",
    "from nltk.stem import WordNetLemmatizer\n",
    "from sklearn.model_selection import train_test_split\n",
    "from sklearn.feature_extraction.text import TfidfVectorizer\n",
    "from sklearn.linear_model import LogisticRegression\n",
    "from sklearn.pipeline import Pipeline\n",
    "from sklearn.metrics import accuracy_score, precision_score, recall_score, f1_score, confusion_matrix"
   ]
  },
  {
   "cell_type": "code",
   "execution_count": 4,
   "id": "d98f3c52-bfa3-4b51-918b-2a963b06cee0",
   "metadata": {},
   "outputs": [],
   "source": [
    "NLTK_STOPWORDS = set(stopwords.words('english'))\n",
    "NLTK_LEMMATIZER = WordNetLemmatizer()\n",
    "\n",
    "def preprocess_text(text: str) -> str:\n",
    "    if not isinstance(text, str): return \"\"\n",
    "    text = text.lower()\n",
    "    text = re.sub(r'[^a-z\\s]', '', text)\n",
    "    words = [NLTK_LEMMATIZER.lemmatize(word)\n",
    "             for word in text.split()\n",
    "             if word not in NLTK_STOPWORDS and len(word) > 1]\n",
    "    return ' '.join(words)"
   ]
  },
  {
   "cell_type": "code",
   "execution_count": 5,
   "id": "a389fea3-cffe-4b4e-8185-ec6539e88bb2",
   "metadata": {},
   "outputs": [
    {
     "name": "stdout",
     "output_type": "stream",
     "text": [
      "Starting Spam Detection Training...\n",
      "\n",
      "Model Performance:\n",
      "Accuracy: 0.9670\n",
      "Precision: 0.9930\n"
     ]
    }
   ],
   "source": [
    "if __name__ == \"__main__\":\n",
    "    print(\"Starting Spam Detection Training...\")\n",
    "\n",
    "    df = pd.read_csv(\"spam_data.csv\", encoding='latin-1')\n",
    "\n",
    "    df = df[['sms', 'label']]\n",
    "    df.dropna(subset=['sms', 'label'], inplace=True)\n",
    "    df = df[df['sms'].apply(lambda x: isinstance(x, str))]\n",
    "    df['label'] = pd.to_numeric(df['label'], errors='coerce').astype(int)\n",
    "\n",
    "    df['processed_sms'] = df['sms'].apply(preprocess_text)\n",
    "\n",
    "    X = df['processed_sms']\n",
    "    y = df['label']\n",
    "\n",
    "    X_train, X_test, y_train, y_test = train_test_split(X, y, test_size=0.25, random_state=42, stratify=y)\n",
    "\n",
    "    pipeline = Pipeline([\n",
    "        ('tfidf_vectorizer', TfidfVectorizer(max_features=5000, ngram_range=(1, 1))),\n",
    "        ('logistic_classifier', LogisticRegression(random_state=42, solver='liblinear', C=1.0, penalty='l2'))\n",
    "    ])\n",
    "\n",
    "    pipeline.fit(X_train, y_train)\n",
    "\n",
    "    predictions = pipeline.predict(X_test)\n",
    "\n",
    "    print(\"\\nModel Performance:\")\n",
    "    print(f\"Accuracy: {accuracy_score(y_test, predictions):.4f}\")\n",
    "    print(f\"Precision: {precision_score(y_test, predictions):.4f}\")"
   ]
  },
  {
   "cell_type": "code",
   "execution_count": null,
   "id": "7a98c88c-b106-438f-9d88-57a43796c2b2",
   "metadata": {},
   "outputs": [],
   "source": []
  }
 ],
 "metadata": {
  "kernelspec": {
   "display_name": "Python 3 (ipykernel)",
   "language": "python",
   "name": "python3"
  },
  "language_info": {
   "codemirror_mode": {
    "name": "ipython",
    "version": 3
   },
   "file_extension": ".py",
   "mimetype": "text/x-python",
   "name": "python",
   "nbconvert_exporter": "python",
   "pygments_lexer": "ipython3",
   "version": "3.10.16"
  }
 },
 "nbformat": 4,
 "nbformat_minor": 5
}
