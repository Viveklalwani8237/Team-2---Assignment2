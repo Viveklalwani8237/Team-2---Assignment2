{
 "cells": [
  {
   "cell_type": "code",
   "execution_count": 1,
   "id": "72138707-0198-4ee8-8b3c-550b312fa69c",
   "metadata": {},
   "outputs": [],
   "source": [
    "import pandas as pd"
   ]
  },
  {
   "cell_type": "code",
   "execution_count": 3,
   "id": "b56d61b1-674f-4db4-9aeb-1b7626cddca5",
   "metadata": {},
   "outputs": [
    {
     "name": "stdout",
     "output_type": "stream",
     "text": [
      "Index(['email_len', 'num_uppercase_words', 'num_exclamations', 'num_links',\n",
      "       'has_html', 'label'],\n",
      "      dtype='object')\n",
      "   email_len  num_uppercase_words  num_exclamations  num_links  has_html  \\\n",
      "0        113                    0                 0          0         0   \n",
      "1         31                    0                 0          0         0   \n",
      "2        157                    2                 0          0         0   \n",
      "3         51                    0                 0          0         0   \n",
      "4         63                    0                 0          0         0   \n",
      "\n",
      "   label  \n",
      "0      0  \n",
      "1      0  \n",
      "2      1  \n",
      "3      0  \n",
      "4      0  \n"
     ]
    }
   ],
   "source": [
    "df = pd.read_csv('Extracted_Features.csv')\n",
    "print(df.columns)\n",
    "print(df.head())"
   ]
  },
  {
   "cell_type": "code",
   "execution_count": 5,
   "id": "fc8f31ff-34d2-44a4-9e5c-e3d0d6b17b34",
   "metadata": {},
   "outputs": [
    {
     "name": "stdout",
     "output_type": "stream",
     "text": [
      "Accuracy: 0.8609865470852018\n",
      "              precision    recall  f1-score   support\n",
      "\n",
      "           0       0.86      1.00      0.92       954\n",
      "           1       0.88      0.04      0.08       161\n",
      "\n",
      "    accuracy                           0.86      1115\n",
      "   macro avg       0.87      0.52      0.50      1115\n",
      "weighted avg       0.86      0.86      0.80      1115\n",
      "\n"
     ]
    }
   ],
   "source": [
    "from sklearn.model_selection import train_test_split\n",
    "from sklearn.naive_bayes import GaussianNB\n",
    "from sklearn.metrics import accuracy_score, classification_report\n",
    "\n",
    "X = df.drop('label', axis=1)\n",
    "y = df['label']\n",
    "\n",
    "X_train, X_test, y_train, y_test = train_test_split(X, y, test_size=0.2, random_state=42)\n",
    "\n",
    "model = GaussianNB()\n",
    "model.fit(X_train, y_train)\n",
    "y_pred = model.predict(X_test)\n",
    "\n",
    "print(\"Accuracy:\", accuracy_score(y_test, y_pred))\n",
    "print(classification_report(y_test, y_pred))"
   ]
  },
  {
   "cell_type": "code",
   "execution_count": 7,
   "id": "0b188ad0-3ab3-4129-b7da-3bf0bd383558",
   "metadata": {},
   "outputs": [],
   "source": [
    "import re\n",
    "def extract_features(email):\n",
    "    features = {}\n",
    "\n",
    "    # Length of email\n",
    "    features['email_len'] = len(email)\n",
    "\n",
    "    # Number of uppercase words\n",
    "    features['num_uppercase_words'] = len(re.findall(r'\\b[A-Z]{2,}\\b', email))\n",
    "\n",
    "    # Number of exclamation marks\n",
    "    features['num_exclamations'] = email.count('!')\n",
    "\n",
    "    # Number of URLs\n",
    "    features['num_links'] = len(re.findall(r'http[s]?://', email))\n",
    "\n",
    "    # Presence of HTML\n",
    "    features['has_html'] = int(bool(re.search(r'<[^>]+>', email)))\n",
    "\n",
    "    return features"
   ]
  },
  {
   "cell_type": "code",
   "execution_count": 9,
   "id": "286791ce-af2f-4cf5-8012-f25863192764",
   "metadata": {},
   "outputs": [
    {
     "name": "stdout",
     "output_type": "stream",
     "text": [
      "Message 1: Spam\n",
      "Message 2: Ham\n"
     ]
    }
   ],
   "source": [
    "def predict_message(text):\n",
    "    features = extract_features(text)\n",
    "    input_df = pd.DataFrame([features])\n",
    "    prediction = model.predict(input_df)[0]\n",
    "    return \"Spam\" if prediction == 1 else \"Ham\"\n",
    "\n",
    "# Example usage\n",
    "sample_msg1 = \"!Congratulations! You've won a $1000 gift card. Click here to claim now rahul!!!\"\n",
    "sample_msg2 = \"!!save big #alert!!\"\n",
    "\n",
    "print(\"Message 1:\", predict_message(sample_msg1))\n",
    "print(\"Message 2:\", predict_message(sample_msg2))"
   ]
  },
  {
   "cell_type": "code",
   "execution_count": null,
   "id": "da205f88-f9fd-4485-be83-16cbdf6aca4a",
   "metadata": {},
   "outputs": [],
   "source": []
  }
 ],
 "metadata": {
  "kernelspec": {
   "display_name": "Python 3 (ipykernel)",
   "language": "python",
   "name": "python3"
  },
  "language_info": {
   "codemirror_mode": {
    "name": "ipython",
    "version": 3
   },
   "file_extension": ".py",
   "mimetype": "text/x-python",
   "name": "python",
   "nbconvert_exporter": "python",
   "pygments_lexer": "ipython3",
   "version": "3.12.7"
  }
 },
 "nbformat": 4,
 "nbformat_minor": 5
}
