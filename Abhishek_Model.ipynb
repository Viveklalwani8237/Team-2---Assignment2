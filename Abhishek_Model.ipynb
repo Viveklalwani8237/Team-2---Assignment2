{
 "cells": [
  {
   "cell_type": "code",
   "execution_count": 2,
   "id": "53d1551b-c4a0-4f47-859a-a535485f2f84",
   "metadata": {},
   "outputs": [
    {
     "name": "stderr",
     "output_type": "stream",
     "text": [
      "2025/06/18 18:18:41 WARNING mlflow.models.model: Model logged without a signature and input example. Please set `input_example` parameter when logging the model to auto infer the model signature.\n"
     ]
    },
    {
     "name": "stdout",
     "output_type": "stream",
     "text": [
      "Training complete.\n",
      "Best Parameters: {'max_depth': None, 'min_samples_split': 5, 'n_estimators': 150}\n",
      "Accuracy: 0.9785\n"
     ]
    }
   ],
   "source": [
    "# train_model.py\n",
    "\n",
    "import pandas as pd\n",
    "import re\n",
    "import os\n",
    "import joblib\n",
    "import mlflow\n",
    "import mlflow.sklearn\n",
    "from sklearn.ensemble import RandomForestClassifier\n",
    "from sklearn.model_selection import train_test_split, GridSearchCV\n",
    "from sklearn.feature_extraction.text import TfidfVectorizer\n",
    "from sklearn.metrics import accuracy_score\n",
    "\n",
    "# Constants\n",
    "DATA_PATH = \"train.csv\"\n",
    "MODEL_PATH = \"best_model.joblib\"\n",
    "VECTORIZER_PATH = \"vectorizer.joblib\"\n",
    "PARAMS_PATH = \"best_params.txt\"\n",
    "\n",
    "# Clean text function\n",
    "def clean_text(text):\n",
    "    text = text.lower()\n",
    "    text = re.sub(r\"[^a-zA-Z\\s]\", \"\", text)\n",
    "    return text\n",
    "\n",
    "# Load and preprocess data\n",
    "def load_data():\n",
    "    df = pd.read_csv(DATA_PATH)\n",
    "    df.dropna(inplace=True)\n",
    "    df[\"sms\"] = df[\"sms\"].apply(clean_text)\n",
    "    return df[\"sms\"], df[\"label\"]\n",
    "\n",
    "# Training with GridSearchCV and MLflow logging\n",
    "def train_model():\n",
    "    X_texts, y = load_data()\n",
    "    \n",
    "    vectorizer = TfidfVectorizer(max_features=5000)\n",
    "    X = vectorizer.fit_transform(X_texts)\n",
    "    \n",
    "    X_train, X_test, y_train, y_test = train_test_split(X, y, test_size=0.2, random_state=42)\n",
    "\n",
    "    param_grid = {\n",
    "        \"n_estimators\": [50, 100, 150],\n",
    "        \"max_depth\": [None, 10, 20],\n",
    "        \"min_samples_split\": [2, 5, 10]\n",
    "    }\n",
    "\n",
    "    with mlflow.start_run():\n",
    "        grid_search = GridSearchCV(RandomForestClassifier(), param_grid, cv=3, scoring=\"accuracy\")\n",
    "        grid_search.fit(X_train, y_train)\n",
    "\n",
    "        best_model = grid_search.best_estimator_\n",
    "        y_pred = best_model.predict(X_test)\n",
    "        acc = accuracy_score(y_test, y_pred)\n",
    "\n",
    "        # Log to MLflow\n",
    "        mlflow.log_params(grid_search.best_params_)\n",
    "        mlflow.log_metric(\"accuracy\", acc)\n",
    "        mlflow.sklearn.log_model(best_model, \"model\")\n",
    "\n",
    "        # Save artifacts\n",
    "        joblib.dump(best_model, MODEL_PATH)\n",
    "        joblib.dump(vectorizer, VECTORIZER_PATH)\n",
    "\n",
    "        with open(PARAMS_PATH, \"w\") as f:\n",
    "            f.write(\"RandomForestClassifier with GridSearchCV\\n\")\n",
    "            for k, v in grid_search.best_params_.items():\n",
    "                f.write(f\"{k}={v}\\n\")\n",
    "            f.write(f\"accuracy={acc}\\n\")\n",
    "\n",
    "        print(\"Training complete.\")\n",
    "        print(\"Best Parameters:\", grid_search.best_params_)\n",
    "        print(f\"Accuracy: {acc:.4f}\")\n",
    "\n",
    "if __name__ == \"__main__\":\n",
    "    train_model()\n"
   ]
  },
  {
   "cell_type": "code",
   "execution_count": null,
   "id": "bcfc4a60-e8ef-4950-8799-c30b2af0e9a3",
   "metadata": {},
   "outputs": [],
   "source": []
  }
 ],
 "metadata": {
  "kernelspec": {
   "display_name": "Python 3 (ipykernel)",
   "language": "python",
   "name": "python3"
  },
  "language_info": {
   "codemirror_mode": {
    "name": "ipython",
    "version": 3
   },
   "file_extension": ".py",
   "mimetype": "text/x-python",
   "name": "python",
   "nbconvert_exporter": "python",
   "pygments_lexer": "ipython3",
   "version": "3.12.4"
  }
 },
 "nbformat": 4,
 "nbformat_minor": 5
}
